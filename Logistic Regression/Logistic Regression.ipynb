{
 "cells": [
  {
   "cell_type": "code",
   "execution_count": 1,
   "metadata": {},
   "outputs": [],
   "source": [
    "import tensorflow as tf\n",
    "import numpy as np\n",
    "%matplotlib inline\n",
    "import matplotlib.pyplot as plt"
   ]
  },
  {
   "cell_type": "code",
   "execution_count": 2,
   "metadata": {},
   "outputs": [],
   "source": [
    "N = 20000"
   ]
  },
  {
   "cell_type": "code",
   "execution_count": 3,
   "metadata": {},
   "outputs": [],
   "source": [
    "def sigmoid(x):\n",
    "    return 1 / (1 + np.exp(-x))"
   ]
  },
  {
   "cell_type": "code",
   "execution_count": 15,
   "metadata": {},
   "outputs": [],
   "source": [
    "#Creating data and simlating results\n",
    "x_data = np.random.randn(N,3)\n",
    "w_real = [0.3,0.5,0.1]\n",
    "b_real = -0.2\n",
    "wxb = np.matmul(w_real,x_data.T) + b_real"
   ]
  },
  {
   "cell_type": "code",
   "execution_count": 16,
   "metadata": {},
   "outputs": [],
   "source": [
    "y_data_pre_noise = sigmoid(wxb)\n",
    "\n",
    "#Giving binary labels\n",
    "y_data = np.random.binomial(1,y_data_pre_noise)"
   ]
  },
  {
   "cell_type": "code",
   "execution_count": 17,
   "metadata": {},
   "outputs": [
    {
     "data": {
      "text/plain": [
       "array([0, 0, 0, ..., 0, 0, 1])"
      ]
     },
     "execution_count": 17,
     "metadata": {},
     "output_type": "execute_result"
    }
   ],
   "source": [
    "y_data"
   ]
  },
  {
   "cell_type": "code",
   "execution_count": 24,
   "metadata": {},
   "outputs": [
    {
     "name": "stdout",
     "output_type": "stream",
     "text": [
      "(0, [array([[ 0.00845934,  0.01493922,  0.00289541]], dtype=float32), -0.020645391])\n",
      "(5, [array([[ 0.04960573,  0.08763179,  0.01698598]], dtype=float32), -0.12127821])\n",
      "(10, [array([[ 0.08827003,  0.15600505,  0.0302381 ]], dtype=float32), -0.21674228])\n",
      "(15, [array([[ 0.12401482,  0.21930081,  0.04250216]], dtype=float32), -0.30635482])\n",
      "(20, [array([[ 0.15675128,  0.27736551,  0.05374935]], dtype=float32), -0.38993961])\n",
      "(25, [array([[ 0.18661538,  0.33043435,  0.06402832]], dtype=float32), -0.46766484])\n",
      "(30, [array([[ 0.21385585,  0.37893689,  0.07342613]], dtype=float32), -0.53989011])\n",
      "(35, [array([[ 0.23875898,  0.42336729,  0.08204209]], dtype=float32), -0.60705829])\n",
      "(40, [array([[ 0.26160705,  0.4642126 ,  0.08997349]], dtype=float32), -0.66962916])\n",
      "(45, [array([[ 0.2826589 ,  0.50191945,  0.09730903]], dtype=float32), -0.72804451])\n",
      "(50, [array([[ 0.29836172,  0.53009224,  0.10280111]], dtype=float32), -0.77205998])\n"
     ]
    }
   ],
   "source": [
    "#Defining the model and it's parameters\n",
    "NUM_STEPS = 50\n",
    "g = tf.Graph()\n",
    "wb_ = []\n",
    "with g.as_default():\n",
    "    x = tf.placeholder(tf.float32,shape=[None,3])\n",
    "    y_true = tf.placeholder(tf.float32,shape=None)\n",
    "    \n",
    "    #Initialising weights and biases with Zeros\n",
    "    with tf.name_scope('inference') as scope:\n",
    "        w = tf.Variable([[0,0,0]],dtype=tf.float32,name='weights')\n",
    "        b = tf.Variable(0,dtype=tf.float32,name='bias')\n",
    "    \n",
    "    \n",
    "    #Logistic model\n",
    "        y_pred = tf.matmul(w,tf.transpose(x)) + b\n",
    "        y_pred = tf.sigmoid(y_pred)\n",
    "    \n",
    "    #Loss function\n",
    "    with tf.name_scope('loss') as scope:\n",
    "        loss = tf.reduce_mean(tf.nn.sigmoid_cross_entropy_with_logits(labels = y_true, logits = y_pred))\n",
    "    \n",
    "    #Optmisation function\n",
    "    with tf.name_scope('train') as scope:\n",
    "        learning_rate = 0.5\n",
    "        optimizer = tf.train.GradientDescentOptimizer(learning_rate)\n",
    "        train = optimizer.minimize(loss)\n",
    "    \n",
    "    #Training\n",
    "    init = tf.global_variables_initializer()\n",
    "    with tf.Session() as sess:\n",
    "        sess.run(init)\n",
    "        for step in range(NUM_STEPS):\n",
    "            sess.run(train,{x: x_data, y_true: y_data})\n",
    "            if (step % 5 == 0):\n",
    "                print(step, sess.run([w,b]))\n",
    "                wb_.append(sess.run([w,b]))\n",
    "        print(50, sess.run([w,b]))\n",
    "        \n"
   ]
  },
  {
   "cell_type": "code",
   "execution_count": null,
   "metadata": {},
   "outputs": [],
   "source": []
  }
 ],
 "metadata": {
  "kernelspec": {
   "display_name": "Python 2",
   "language": "python",
   "name": "python2"
  },
  "language_info": {
   "codemirror_mode": {
    "name": "ipython",
    "version": 2
   },
   "file_extension": ".py",
   "mimetype": "text/x-python",
   "name": "python",
   "nbconvert_exporter": "python",
   "pygments_lexer": "ipython2",
   "version": "2.7.12"
  }
 },
 "nbformat": 4,
 "nbformat_minor": 2
}
