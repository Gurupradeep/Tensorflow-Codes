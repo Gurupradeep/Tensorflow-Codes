{
 "cells": [
  {
   "cell_type": "code",
   "execution_count": 11,
   "metadata": {},
   "outputs": [],
   "source": [
    "import tensorflow as tf\n",
    "import numpy as np\n",
    "%matplotlib inline\n",
    "import matplotlib.pyplot as plt"
   ]
  },
  {
   "cell_type": "code",
   "execution_count": 29,
   "metadata": {},
   "outputs": [],
   "source": [
    "#Creating random data and simulating results\n",
    "x_data = np.random.randn(2000,3)\n",
    "w_real = [0.3,0.5,0.1]\n",
    "b_real = -0.2\n",
    "y_data = np.matmul(w_real,x_data.T) + b_real"
   ]
  },
  {
   "cell_type": "code",
   "execution_count": 30,
   "metadata": {},
   "outputs": [
    {
     "data": {
      "text/plain": [
       "(2000, 3)"
      ]
     },
     "execution_count": 30,
     "metadata": {},
     "output_type": "execute_result"
    }
   ],
   "source": [
    "x_data.shape"
   ]
  },
  {
   "cell_type": "code",
   "execution_count": 35,
   "metadata": {},
   "outputs": [
    {
     "name": "stdout",
     "output_type": "stream",
     "text": [
      "(0, [array([[ 0.32897139,  0.51542675,  0.09699696]], dtype=float32), -0.20952773])\n",
      "(5, [array([[ 0.29999894,  0.50000006,  0.10000029]], dtype=float32), -0.20000036])\n",
      "(10, [array([[ 0.30000001,  0.5       ,  0.1       ]], dtype=float32), -0.2])\n",
      "(15, [array([[ 0.29999998,  0.5       ,  0.1       ]], dtype=float32), -0.2])\n",
      "(20, [array([[ 0.30000001,  0.5       ,  0.1       ]], dtype=float32), -0.2])\n",
      "(25, [array([[ 0.29999998,  0.5       ,  0.1       ]], dtype=float32), -0.2])\n",
      "(30, [array([[ 0.30000001,  0.5       ,  0.1       ]], dtype=float32), -0.2])\n",
      "(35, [array([[ 0.29999998,  0.5       ,  0.1       ]], dtype=float32), -0.2])\n",
      "(40, [array([[ 0.30000001,  0.5       ,  0.1       ]], dtype=float32), -0.2])\n",
      "(45, [array([[ 0.29999998,  0.5       ,  0.1       ]], dtype=float32), -0.2])\n",
      "(50, [array([[ 0.29999998,  0.5       ,  0.1       ]], dtype=float32), -0.2])\n"
     ]
    }
   ],
   "source": [
    "#Defining the model and it's parameters\n",
    "NUM_STEPS = 50\n",
    "g = tf.Graph()\n",
    "wb_ = []\n",
    "with g.as_default():\n",
    "    x = tf.placeholder(tf.float32,shape=[None,3])\n",
    "    y_true = tf.placeholder(tf.float32,shape=None)\n",
    "    \n",
    "    #Initialising weights and biases with Zeros\n",
    "    with tf.name_scope('inference') as scope:\n",
    "        w = tf.Variable([[0,0,0]],dtype=tf.float32,name='weights')\n",
    "        b = tf.Variable(0,dtype=tf.float32,name='bias')\n",
    "    \n",
    "    \n",
    "    #Linear model\n",
    "        y_pred = tf.matmul(w,tf.transpose(x)) + b\n",
    "    \n",
    "    #Loss function\n",
    "    with tf.name_scope('loss') as scope:\n",
    "        loss = tf.reduce_mean(tf.square(y_true-y_pred))\n",
    "    \n",
    "    #Optmisation function\n",
    "    with tf.name_scope('train') as scope:\n",
    "        learning_rate = 0.5\n",
    "        optimizer = tf.train.GradientDescentOptimizer(learning_rate)\n",
    "        train = optimizer.minimize(loss)\n",
    "    \n",
    "    #Training\n",
    "    init = tf.global_variables_initializer()\n",
    "    with tf.Session() as sess:\n",
    "        sess.run(init)\n",
    "        for step in range(NUM_STEPS):\n",
    "            sess.run(train,{x: x_data, y_true: y_data})\n",
    "            if (step % 5 == 0):\n",
    "                print(step, sess.run([w,b]))\n",
    "                wb_.append(sess.run([w,b]))\n",
    "        print(50, sess.run([w,b]))\n",
    "        \n"
   ]
  },
  {
   "cell_type": "code",
   "execution_count": null,
   "metadata": {},
   "outputs": [],
   "source": []
  }
 ],
 "metadata": {
  "kernelspec": {
   "display_name": "Python 2",
   "language": "python",
   "name": "python2"
  },
  "language_info": {
   "codemirror_mode": {
    "name": "ipython",
    "version": 2
   },
   "file_extension": ".py",
   "mimetype": "text/x-python",
   "name": "python",
   "nbconvert_exporter": "python",
   "pygments_lexer": "ipython2",
   "version": "2.7.12"
  }
 },
 "nbformat": 4,
 "nbformat_minor": 2
}
